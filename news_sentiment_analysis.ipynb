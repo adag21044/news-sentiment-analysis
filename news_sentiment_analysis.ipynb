{
  "nbformat": 4,
  "nbformat_minor": 0,
  "metadata": {
    "colab": {
      "provenance": [],
      "authorship_tag": "ABX9TyNVkmRL3/aQiWTqDuqrb0J3",
      "include_colab_link": true
    },
    "kernelspec": {
      "name": "python3",
      "display_name": "Python 3"
    },
    "language_info": {
      "name": "python"
    }
  },
  "cells": [
    {
      "cell_type": "markdown",
      "metadata": {
        "id": "view-in-github",
        "colab_type": "text"
      },
      "source": [
        "<a href=\"https://colab.research.google.com/github/adag21044/news-sentiment-analysis/blob/main/news_sentiment_analysis.ipynb\" target=\"_parent\"><img src=\"https://colab.research.google.com/assets/colab-badge.svg\" alt=\"Open In Colab\"/></a>"
      ]
    },
    {
      "cell_type": "code",
      "execution_count": 58,
      "metadata": {
        "id": "KtWOYaDZjS9V"
      },
      "outputs": [],
      "source": [
        "import re\n",
        "import pandas as pd\n",
        "import requests\n",
        "from bs4 import BeautifulSoup\n",
        "import matplotlib.pyplot as plt\n",
        "\n",
        "from sklearn.feature_extraction.text import TfidfVectorizer\n",
        "from sklearn.model_selection import train_test_split\n",
        "from sklearn.naive_bayes import MultinomialNB\n",
        "from sklearn.linear_model import LogisticRegression\n",
        "from sklearn.metrics import accuracy_score, classification_report, confusion_matrix, ConfusionMatrixDisplay\n",
        "from imblearn.over_sampling import RandomOverSampler  # Azınlık sınıfı artırmak için"
      ]
    },
    {
      "cell_type": "code",
      "source": [
        "pip install requests beautifulsoup4 pandas scikit-learn matplotlib\n"
      ],
      "metadata": {
        "colab": {
          "base_uri": "https://localhost:8080/"
        },
        "id": "RQF_4ioYjffH",
        "outputId": "3546230c-3b4d-4730-bff7-90f94b1c9a7d"
      },
      "execution_count": 59,
      "outputs": [
        {
          "output_type": "stream",
          "name": "stdout",
          "text": [
            "Requirement already satisfied: requests in /usr/local/lib/python3.11/dist-packages (2.32.3)\n",
            "Requirement already satisfied: beautifulsoup4 in /usr/local/lib/python3.11/dist-packages (4.13.3)\n",
            "Requirement already satisfied: pandas in /usr/local/lib/python3.11/dist-packages (2.2.2)\n",
            "Requirement already satisfied: scikit-learn in /usr/local/lib/python3.11/dist-packages (1.6.1)\n",
            "Requirement already satisfied: matplotlib in /usr/local/lib/python3.11/dist-packages (3.10.0)\n",
            "Requirement already satisfied: charset-normalizer<4,>=2 in /usr/local/lib/python3.11/dist-packages (from requests) (3.4.1)\n",
            "Requirement already satisfied: idna<4,>=2.5 in /usr/local/lib/python3.11/dist-packages (from requests) (3.10)\n",
            "Requirement already satisfied: urllib3<3,>=1.21.1 in /usr/local/lib/python3.11/dist-packages (from requests) (2.3.0)\n",
            "Requirement already satisfied: certifi>=2017.4.17 in /usr/local/lib/python3.11/dist-packages (from requests) (2025.1.31)\n",
            "Requirement already satisfied: soupsieve>1.2 in /usr/local/lib/python3.11/dist-packages (from beautifulsoup4) (2.6)\n",
            "Requirement already satisfied: typing-extensions>=4.0.0 in /usr/local/lib/python3.11/dist-packages (from beautifulsoup4) (4.12.2)\n",
            "Requirement already satisfied: numpy>=1.23.2 in /usr/local/lib/python3.11/dist-packages (from pandas) (2.0.2)\n",
            "Requirement already satisfied: python-dateutil>=2.8.2 in /usr/local/lib/python3.11/dist-packages (from pandas) (2.8.2)\n",
            "Requirement already satisfied: pytz>=2020.1 in /usr/local/lib/python3.11/dist-packages (from pandas) (2025.1)\n",
            "Requirement already satisfied: tzdata>=2022.7 in /usr/local/lib/python3.11/dist-packages (from pandas) (2025.1)\n",
            "Requirement already satisfied: scipy>=1.6.0 in /usr/local/lib/python3.11/dist-packages (from scikit-learn) (1.14.1)\n",
            "Requirement already satisfied: joblib>=1.2.0 in /usr/local/lib/python3.11/dist-packages (from scikit-learn) (1.4.2)\n",
            "Requirement already satisfied: threadpoolctl>=3.1.0 in /usr/local/lib/python3.11/dist-packages (from scikit-learn) (3.6.0)\n",
            "Requirement already satisfied: contourpy>=1.0.1 in /usr/local/lib/python3.11/dist-packages (from matplotlib) (1.3.1)\n",
            "Requirement already satisfied: cycler>=0.10 in /usr/local/lib/python3.11/dist-packages (from matplotlib) (0.12.1)\n",
            "Requirement already satisfied: fonttools>=4.22.0 in /usr/local/lib/python3.11/dist-packages (from matplotlib) (4.56.0)\n",
            "Requirement already satisfied: kiwisolver>=1.3.1 in /usr/local/lib/python3.11/dist-packages (from matplotlib) (1.4.8)\n",
            "Requirement already satisfied: packaging>=20.0 in /usr/local/lib/python3.11/dist-packages (from matplotlib) (24.2)\n",
            "Requirement already satisfied: pillow>=8 in /usr/local/lib/python3.11/dist-packages (from matplotlib) (11.1.0)\n",
            "Requirement already satisfied: pyparsing>=2.3.1 in /usr/local/lib/python3.11/dist-packages (from matplotlib) (3.2.1)\n",
            "Requirement already satisfied: six>=1.5 in /usr/local/lib/python3.11/dist-packages (from python-dateutil>=2.8.2->pandas) (1.17.0)\n"
          ]
        }
      ]
    },
    {
      "cell_type": "code",
      "source": [
        "# NLTK stopwords indir\n",
        "nltk.download(\"stopwords\")\n",
        "from nltk.corpus import stopwords\n",
        "turkish_stopwords = stopwords.words(\"turkish\")\n"
      ],
      "metadata": {
        "colab": {
          "base_uri": "https://localhost:8080/"
        },
        "id": "c17G9VhljVoI",
        "outputId": "f0d3d21c-39c3-4606-ab50-4c4503f7b8f3"
      },
      "execution_count": 60,
      "outputs": [
        {
          "output_type": "stream",
          "name": "stderr",
          "text": [
            "[nltk_data] Downloading package stopwords to /root/nltk_data...\n",
            "[nltk_data]   Package stopwords is already up-to-date!\n"
          ]
        }
      ]
    },
    {
      "cell_type": "code",
      "source": [],
      "metadata": {
        "id": "oNs851ldjWvf"
      },
      "execution_count": 42,
      "outputs": []
    },
    {
      "cell_type": "code",
      "source": [
        "def scrape_news(url):\n",
        "    response = requests.get(url)\n",
        "    if response.status_code == 200:\n",
        "        soup = BeautifulSoup(response.content, \"html.parser\")\n",
        "        return [h.text.strip() for h in soup.find_all(\"h3\") if h.text.strip() != \"\"]\n",
        "    return []\n",
        "\n",
        "# ✅ Daha fazla haber kaynağı ekledik\n",
        "mynet_news = scrape_news(\"https://www.mynet.com/haber\")\n",
        "ntv_news = scrape_news(\"https://www.ntv.com.tr/gundem\")\n",
        "hurriyet_news = scrape_news(\"https://www.hurriyet.com.tr/gundem/\")\n",
        "haberturk_news = scrape_news(\"https://www.haberturk.com/\")\n",
        "cnn_news = scrape_news(\"https://www.cnnturk.com/turkiye\")\n",
        "bbc_news = scrape_news(\"https://www.bbc.com/turkce\")\n",
        "\n",
        "# ✅ Tüm haberleri birleştirelim\n",
        "titles = mynet_news + ntv_news + hurriyet_news + haberturk_news + cnn_news + bbc_news\n",
        "df = pd.DataFrame(titles, columns=[\"comment\"])\n",
        "\n",
        "print(f\"\\n✅ **Toplam çekilen haber sayısı: {len(df)}**\")\n"
      ],
      "metadata": {
        "colab": {
          "base_uri": "https://localhost:8080/"
        },
        "id": "7AkEyaY9jZYH",
        "outputId": "51a64994-aedc-40a2-e902-79b744ff0b7e"
      },
      "execution_count": 61,
      "outputs": [
        {
          "output_type": "stream",
          "name": "stdout",
          "text": [
            "\n",
            "✅ **Toplam çekilen haber sayısı: 102**\n"
          ]
        }
      ]
    },
    {
      "cell_type": "code",
      "source": [
        "print(f\"\\n✅ Toplam çekilen haber sayısı: {len(df)}\")\n"
      ],
      "metadata": {
        "colab": {
          "base_uri": "https://localhost:8080/"
        },
        "id": "BQ34UemOoA-Q",
        "outputId": "40f1847b-6614-47d5-a233-4642270795c7"
      },
      "execution_count": 62,
      "outputs": [
        {
          "output_type": "stream",
          "name": "stdout",
          "text": [
            "\n",
            "✅ Toplam çekilen haber sayısı: 102\n"
          ]
        }
      ]
    },
    {
      "cell_type": "code",
      "source": [
        "# ✅ 2. Veri Temizleme Fonksiyonu\n",
        "def preprocess(text):\n",
        "    text = re.sub(r\"http\\S+\", \"\", text)\n",
        "    text = re.sub(r\"@\\w+\", \"\", text)\n",
        "    text = re.sub(r\"#\\w+\", \"\", text)\n",
        "    text = re.sub(r\"\\d+\", \"\", text)\n",
        "    text = re.sub(r\"[^\\w\\s]\", \"\", text)\n",
        "    text = text.lower()\n",
        "    return text\n",
        "\n",
        "df[\"clean_comment\"] = df[\"comment\"].apply(preprocess)"
      ],
      "metadata": {
        "id": "SxLVXElImdbQ"
      },
      "execution_count": 64,
      "outputs": []
    },
    {
      "cell_type": "code",
      "source": [
        "# ✅ 3. Gelişmiş Duygu Etiketleme\n",
        "def label_sentiment(text):\n",
        "    negative_words = [\"felaket\", \"ölüm\", \"kötü\", \"kriz\", \"çöküş\", \"patlama\", \"deprem\", \"saldırı\", \"ölü\", \"yıkım\", \"yangın\", \"acı\"]\n",
        "    positive_words = [\"müjde\", \"başarı\", \"kurtuluş\", \"kazanç\", \"büyüme\", \"iyi\", \"mutlu\", \"sevindirici\", \"zafer\", \"güzel\"]\n",
        "\n",
        "    neg_count = sum(1 for word in negative_words if word in text)\n",
        "    pos_count = sum(1 for word in positive_words if word in text)\n",
        "\n",
        "    if neg_count > pos_count:\n",
        "        return \"negative\"\n",
        "    elif pos_count > neg_count:\n",
        "        return \"positive\"\n",
        "    else:\n",
        "        return \"neutral\"\n",
        "\n",
        "df[\"sentiment\"] = df[\"clean_comment\"].apply(label_sentiment)\n",
        "\n",
        "print(\"\\n✅ **Sınıf Dağılımı:**\")\n",
        "print(df[\"sentiment\"].value_counts())"
      ],
      "metadata": {
        "colab": {
          "base_uri": "https://localhost:8080/"
        },
        "id": "maU0i0KamgJH",
        "outputId": "8821391f-af68-495b-a248-9220a1e135a6"
      },
      "execution_count": 65,
      "outputs": [
        {
          "output_type": "stream",
          "name": "stdout",
          "text": [
            "\n",
            "✅ **Sınıf Dağılımı:**\n",
            "sentiment\n",
            "neutral     88\n",
            "positive     8\n",
            "negative     6\n",
            "Name: count, dtype: int64\n"
          ]
        }
      ]
    },
    {
      "cell_type": "code",
      "source": [
        "# ✅ 4. TF-IDF ile Vektörleştirme (max_features=200)\n",
        "vectorizer = TfidfVectorizer(stop_words=turkish_stopwords, max_features=200)\n",
        "X = vectorizer.fit_transform(df[\"clean_comment\"])\n",
        "y = df[\"sentiment\"]"
      ],
      "metadata": {
        "id": "yV76-GpFmhY3"
      },
      "execution_count": 66,
      "outputs": []
    },
    {
      "cell_type": "code",
      "source": [
        "# ✅ 5. **SMOTE Yerine Random Oversampling Kullan**\n",
        "ros = RandomOverSampler(sampling_strategy=\"auto\", random_state=42)\n",
        "X_res, y_res = ros.fit_resample(X, y)  # Negative örnekleri artırır"
      ],
      "metadata": {
        "id": "f8_AFDXQmimH"
      },
      "execution_count": 67,
      "outputs": []
    },
    {
      "cell_type": "code",
      "source": [
        "# ✅ 6. Eğitim-Test Bölmesi\n",
        "X_train, X_test, y_train, y_test = train_test_split(\n",
        "    X_res, y_res, test_size=0.2, random_state=42, stratify=y_res, shuffle=True\n",
        ")"
      ],
      "metadata": {
        "id": "v8JYHcDJmjzf"
      },
      "execution_count": 68,
      "outputs": []
    },
    {
      "cell_type": "code",
      "source": [
        "# ✅ 7. Naive Bayes Modeli\n",
        "nb_model = MultinomialNB()\n",
        "nb_model.fit(X_train, y_train)\n",
        "nb_pred = nb_model.predict(X_test)\n"
      ],
      "metadata": {
        "id": "A9wfs6NFmk64"
      },
      "execution_count": 69,
      "outputs": []
    },
    {
      "cell_type": "code",
      "source": [
        "# ✅ 8. Logistic Regression Modeli\n",
        "lr_model = LogisticRegression(max_iter=500)\n",
        "lr_model.fit(X_train, y_train)\n",
        "lr_pred = lr_model.predict(X_test)\n"
      ],
      "metadata": {
        "id": "CERrClJQmmQA"
      },
      "execution_count": 70,
      "outputs": []
    },
    {
      "cell_type": "code",
      "source": [
        "# ✅ 9. Model Skorları\n",
        "print(f\"\\nNaive Bayes Accuracy: {accuracy_score(y_test, nb_pred):.2f}\")\n",
        "print(classification_report(y_test, nb_pred))\n",
        "\n",
        "print(f\"\\nLogistic Regression Accuracy: {accuracy_score(y_test, lr_pred):.2f}\")\n",
        "print(classification_report(y_test, lr_pred))"
      ],
      "metadata": {
        "colab": {
          "base_uri": "https://localhost:8080/"
        },
        "id": "75b-iXiEmnVg",
        "outputId": "79b8ea1f-896d-499c-f3b6-e55897a0c8a6"
      },
      "execution_count": 71,
      "outputs": [
        {
          "output_type": "stream",
          "name": "stdout",
          "text": [
            "\n",
            "Naive Bayes Accuracy: 0.83\n",
            "              precision    recall  f1-score   support\n",
            "\n",
            "    negative       0.77      1.00      0.87        17\n",
            "     neutral       1.00      0.61      0.76        18\n",
            "    positive       0.80      0.89      0.84        18\n",
            "\n",
            "    accuracy                           0.83        53\n",
            "   macro avg       0.86      0.83      0.82        53\n",
            "weighted avg       0.86      0.83      0.82        53\n",
            "\n",
            "\n",
            "Logistic Regression Accuracy: 0.94\n",
            "              precision    recall  f1-score   support\n",
            "\n",
            "    negative       0.94      1.00      0.97        17\n",
            "     neutral       0.89      0.94      0.92        18\n",
            "    positive       1.00      0.89      0.94        18\n",
            "\n",
            "    accuracy                           0.94        53\n",
            "   macro avg       0.95      0.94      0.94        53\n",
            "weighted avg       0.95      0.94      0.94        53\n",
            "\n"
          ]
        }
      ]
    },
    {
      "cell_type": "code",
      "source": [
        "# ✅ 10. Confusion Matrix – NB\n",
        "cm = confusion_matrix(y_test, nb_pred, labels=nb_model.classes_)\n",
        "disp = ConfusionMatrixDisplay(confusion_matrix=cm, display_labels=nb_model.classes_)\n",
        "disp.plot()\n",
        "plt.title(\"Naive Bayes Confusion Matrix\")\n",
        "plt.show()"
      ],
      "metadata": {
        "colab": {
          "base_uri": "https://localhost:8080/",
          "height": 472
        },
        "id": "Q8iijLpMmof-",
        "outputId": "72a8bdb3-2881-49f3-b7d1-d21dcd403c52"
      },
      "execution_count": 72,
      "outputs": [
        {
          "output_type": "display_data",
          "data": {
            "text/plain": [
              "<Figure size 640x480 with 2 Axes>"
            ],
            "image/png": "[encoded data removed]"
          },
          "metadata": {}
        }
      ]
    },
    {
      "cell_type": "code",
      "source": [
        "# ✅ 11. Confusion Matrix – LR\n",
        "cm = confusion_matrix(y_test, lr_pred, labels=lr_model.classes_)\n",
        "disp = ConfusionMatrixDisplay(confusion_matrix=cm, display_labels=lr_model.classes_)\n",
        "disp.plot()\n",
        "plt.title(\"Logistic Regression Confusion Matrix\")\n",
        "plt.show()"
      ],
      "metadata": {
        "colab": {
          "base_uri": "https://localhost:8080/",
          "height": 472
        },
        "id": "MDEm5qEZmprt",
        "outputId": "6b5289b6-13c0-4e31-e27e-7bfde2e46877"
      },
      "execution_count": 73,
      "outputs": [
        {
          "output_type": "display_data",
          "data": {
            "text/plain": [
              "<Figure size 640x480 with 2 Axes>"
            ],
            "image/png": "[encoded data removed]"
          },
          "metadata": {}
        }
      ]
    },
    {
      "cell_type": "code",
      "source": [
        "# ✅ 12. CSV Kaydet\n",
        "df.to_csv(\"mynet_news_sentiment.csv\", index=False, encoding=\"utf-8\")\n",
        "print(\"\\n✅ CSV kaydedildi: mynet_news_sentiment.csv\")\n",
        "print(df.head())"
      ],
      "metadata": {
        "colab": {
          "base_uri": "https://localhost:8080/"
        },
        "id": "ePPrSosdmrCG",
        "outputId": "38638a6b-8cdb-49cc-8b2b-e28715bfe216"
      },
      "execution_count": 74,
      "outputs": [
        {
          "output_type": "stream",
          "name": "stdout",
          "text": [
            "\n",
            "✅ CSV kaydedildi: mynet_news_sentiment.csv\n",
            "                                            comment  \\\n",
            "0  Film sahnesini aratmadı: Firari böyle yakalandı!   \n",
            "1     İBB Meclisi 24 Mart'ta olağanüstü toplanacak!   \n",
            "2             İsmail Saymaz'la ilgili yeni gelişme!   \n",
            "3                   Ege Denizi'nde korkutan deprem!   \n",
            "4              Rusya'dan Ekrem İmamoğlu açıklaması!   \n",
            "\n",
            "                                    clean_comment sentiment  \n",
            "0  film sahnesini aratmadı firari böyle yakalandı   neutral  \n",
            "1      i̇bb meclisi  martta olağanüstü toplanacak   neutral  \n",
            "2            i̇smail saymazla ilgili yeni gelişme   neutral  \n",
            "3                   ege denizinde korkutan deprem  negative  \n",
            "4             rusyadan ekrem i̇mamoğlu açıklaması   neutral  \n"
          ]
        }
      ]
    }
  ]
}